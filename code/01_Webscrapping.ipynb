{
 "cells": [
  {
   "cell_type": "markdown",
   "metadata": {},
   "source": [
    "# ![](https://ga-dash.s3.amazonaws.com/production/assets/logo-9f88ae6c9c3871690e33280fcf557f33.png) Project 3: Web APIs & NLP from Reddit Part 1/2"
   ]
  },
  {
   "cell_type": "markdown",
   "metadata": {},
   "source": [
    "# Contents:\n",
    "- [Problem Statement](#Problem-Statement)\n",
    "- [Data collection via API](#Data-Collection-via-API)\n",
    "- [Save file](#Save-marvel-and-dc-post)"
   ]
  },
  {
   "cell_type": "markdown",
   "metadata": {},
   "source": [
    "## Problem Statement"
   ]
  },
  {
   "cell_type": "markdown",
   "metadata": {},
   "source": [
    "Our client is a game creator that specialised in mobile application game and their recent game creation involved heros from DC cinematics and Marvel studios.\n",
    "\n",
    "As a data scientist from a consultancy firm, our task is to build a good classification model based on reddit posts from marvel and dc subbredits to help them in their marketing campaign. Client will use the model to predict whether the internet user is a marvel or dc fan todisplay appropriate advertisement to entice the users to download the game in order to boost the game popularity. The model will also help client to have a better understanding on the most discussed superheros to be placed of a higher priority or to be included in the game.\n",
    "\n",
    "The dataset consist of the latest 1000 posts from each of the two subreddit.The primary stakeholders will be the client to boost their game popularity and the secondary stakeholders will be the game consumer. \n",
    "\n",
    "The following is the general workflow for this project: \n",
    "+ Data Collection\n",
    "+ Exploratory data analysis (EDA)\n",
    "+ Data cleaning by removing special characters, lemmatizing/stemming and word removal\n",
    "+ Pre-processing and feature engineering\n",
    "+ Modelling and evaluation\n",
    "+ Conclusion and recommendation\n",
    "\n",
    "The model will then be evaluated by two metrics - model test accuracy and ROC AUC score. The objective of the model is to get a high accuracy score and ROC AUC score."
   ]
  },
  {
   "cell_type": "markdown",
   "metadata": {},
   "source": [
    "## Data Collection via API"
   ]
  },
  {
   "cell_type": "code",
   "execution_count": 1,
   "metadata": {},
   "outputs": [],
   "source": [
    "# Import libaries\n",
    "import pandas as pd\n",
    "import numpy as np \n",
    "import requests\n",
    "from bs4 import BeautifulSoup"
   ]
  },
  {
   "cell_type": "markdown",
   "metadata": {},
   "source": [
    "### To gather information from 1 request"
   ]
  },
  {
   "cell_type": "code",
   "execution_count": 2,
   "metadata": {},
   "outputs": [
    {
     "data": {
      "text/plain": [
       "200"
      ]
     },
     "execution_count": 2,
     "metadata": {},
     "output_type": "execute_result"
    }
   ],
   "source": [
    "url = 'https://api.pushshift.io/reddit/search/submission'\n",
    "\n",
    "params = {\n",
    "    'subreddit':'marvelstudios',\n",
    "    'size':100,\n",
    "    'before':1622966051\n",
    "}\n",
    "\n",
    "res=requests.get(url,params)\n",
    "res.status_code"
   ]
  },
  {
   "cell_type": "markdown",
   "metadata": {},
   "source": [
    "Status_code 200 means successfully"
   ]
  },
  {
   "cell_type": "code",
   "execution_count": 3,
   "metadata": {},
   "outputs": [],
   "source": [
    "data = res.json()\n",
    "post = data['data']"
   ]
  },
  {
   "cell_type": "code",
   "execution_count": 4,
   "metadata": {},
   "outputs": [
    {
     "data": {
      "text/plain": [
       "100"
      ]
     },
     "execution_count": 4,
     "metadata": {},
     "output_type": "execute_result"
    }
   ],
   "source": [
    "len(post)"
   ]
  },
  {
   "cell_type": "code",
   "execution_count": 5,
   "metadata": {},
   "outputs": [],
   "source": [
    "df= pd.DataFrame(post)"
   ]
  },
  {
   "cell_type": "code",
   "execution_count": 6,
   "metadata": {},
   "outputs": [
    {
     "data": {
      "text/html": [
       "<div>\n",
       "<style scoped>\n",
       "    .dataframe tbody tr th:only-of-type {\n",
       "        vertical-align: middle;\n",
       "    }\n",
       "\n",
       "    .dataframe tbody tr th {\n",
       "        vertical-align: top;\n",
       "    }\n",
       "\n",
       "    .dataframe thead th {\n",
       "        text-align: right;\n",
       "    }\n",
       "</style>\n",
       "<table border=\"1\" class=\"dataframe\">\n",
       "  <thead>\n",
       "    <tr style=\"text-align: right;\">\n",
       "      <th></th>\n",
       "      <th>subreddit</th>\n",
       "      <th>selftext</th>\n",
       "      <th>title</th>\n",
       "    </tr>\n",
       "  </thead>\n",
       "  <tbody>\n",
       "    <tr>\n",
       "      <th>0</th>\n",
       "      <td>marvelstudios</td>\n",
       "      <td></td>\n",
       "      <td>Dang, I love making these.</td>\n",
       "    </tr>\n",
       "    <tr>\n",
       "      <th>1</th>\n",
       "      <td>marvelstudios</td>\n",
       "      <td></td>\n",
       "      <td>Dang, I love making these.</td>\n",
       "    </tr>\n",
       "    <tr>\n",
       "      <th>2</th>\n",
       "      <td>marvelstudios</td>\n",
       "      <td>After Sam's words of advice in Episode 5 of FA...</td>\n",
       "      <td>What I think Bucky will do next.</td>\n",
       "    </tr>\n",
       "    <tr>\n",
       "      <th>3</th>\n",
       "      <td>marvelstudios</td>\n",
       "      <td>8 years later definitely could of changed to 5...</td>\n",
       "      <td>I know that marvel had the power to change Bla...</td>\n",
       "    </tr>\n",
       "    <tr>\n",
       "      <th>4</th>\n",
       "      <td>marvelstudios</td>\n",
       "      <td></td>\n",
       "      <td>Let's Talk: Marvel!</td>\n",
       "    </tr>\n",
       "  </tbody>\n",
       "</table>\n",
       "</div>"
      ],
      "text/plain": [
       "       subreddit                                           selftext  \\\n",
       "0  marvelstudios                                                      \n",
       "1  marvelstudios                                                      \n",
       "2  marvelstudios  After Sam's words of advice in Episode 5 of FA...   \n",
       "3  marvelstudios  8 years later definitely could of changed to 5...   \n",
       "4  marvelstudios                                                      \n",
       "\n",
       "                                               title  \n",
       "0                         Dang, I love making these.  \n",
       "1                         Dang, I love making these.  \n",
       "2                   What I think Bucky will do next.  \n",
       "3  I know that marvel had the power to change Bla...  \n",
       "4                                Let's Talk: Marvel!  "
      ]
     },
     "execution_count": 6,
     "metadata": {},
     "output_type": "execute_result"
    }
   ],
   "source": [
    "df[['subreddit','selftext','title']].head()"
   ]
  },
  {
   "cell_type": "code",
   "execution_count": 7,
   "metadata": {},
   "outputs": [
    {
     "data": {
      "text/plain": [
       "Index(['all_awardings', 'allow_live_comments', 'author',\n",
       "       'author_flair_css_class', 'author_flair_richtext',\n",
       "       'author_flair_template_id', 'author_flair_text',\n",
       "       'author_flair_text_color', 'author_flair_type', 'author_fullname',\n",
       "       'author_patreon_flair', 'author_premium', 'awarders', 'can_mod_post',\n",
       "       'contest_mode', 'created_utc', 'domain', 'full_link', 'gildings', 'id',\n",
       "       'is_created_from_ads_ui', 'is_crosspostable', 'is_meta',\n",
       "       'is_original_content', 'is_reddit_media_domain', 'is_robot_indexable',\n",
       "       'is_self', 'is_video', 'link_flair_background_color',\n",
       "       'link_flair_css_class', 'link_flair_richtext', 'link_flair_template_id',\n",
       "       'link_flair_text', 'link_flair_text_color', 'link_flair_type', 'locked',\n",
       "       'media_only', 'no_follow', 'num_comments', 'num_crossposts', 'over_18',\n",
       "       'parent_whitelist_status', 'permalink', 'pinned', 'post_hint',\n",
       "       'preview', 'pwls', 'retrieved_on', 'score', 'selftext', 'send_replies',\n",
       "       'spoiler', 'stickied', 'subreddit', 'subreddit_id',\n",
       "       'subreddit_subscribers', 'subreddit_type', 'suggested_sort',\n",
       "       'thumbnail', 'thumbnail_height', 'thumbnail_width', 'title',\n",
       "       'total_awards_received', 'treatment_tags', 'upvote_ratio', 'url',\n",
       "       'url_overridden_by_dest', 'whitelist_status', 'wls', 'media',\n",
       "       'media_embed', 'secure_media', 'secure_media_embed', 'gallery_data',\n",
       "       'is_gallery', 'media_metadata', 'removed_by_category',\n",
       "       'discussion_type', 'poll_data'],\n",
       "      dtype='object')"
      ]
     },
     "execution_count": 7,
     "metadata": {},
     "output_type": "execute_result"
    }
   ],
   "source": [
    "df.columns"
   ]
  },
  {
   "cell_type": "markdown",
   "metadata": {},
   "source": [
    "### To gather information for 1000 post per subreddit"
   ]
  },
  {
   "cell_type": "code",
   "execution_count": 8,
   "metadata": {},
   "outputs": [],
   "source": [
    "from time import sleep"
   ]
  },
  {
   "cell_type": "code",
   "execution_count": 9,
   "metadata": {},
   "outputs": [],
   "source": [
    "def get_posts(subreddit, n_iter):\n",
    "    \n",
    "    df_list = []\n",
    "    current_time = 1623963107\n",
    "    \n",
    "    for _ in range(n_iter):\n",
    "        res = requests.get(\n",
    "            url,\n",
    "            params={\n",
    "                \"subreddit\": subreddit,\n",
    "                \"size\": 100,\n",
    "                \"before\": current_time,\n",
    "                \"is_self\":True, #if submission is a self post\n",
    "                \"is_original_content\":True,\n",
    "                \"allow_videos\":False,\n",
    "                \"allow_images\":False,\n",
    "                \"allow_videogifs\":False,\n",
    "                \"title:not\" : 'POLL'\n",
    "            }\n",
    "        )\n",
    "        sleep(3)\n",
    "        df = pd.DataFrame(res.json()['data'])\n",
    "        df = df.loc[:, [\"subreddit\", \"title\", \"selftext\", \"created_utc\",'id']]\n",
    "        df_list.append(df)\n",
    "        current_time = df.created_utc.min()\n",
    "        \n",
    "    return pd.concat(df_list, axis=0)"
   ]
  },
  {
   "cell_type": "markdown",
   "metadata": {},
   "source": [
    "Note: \n",
    "- The pushshift limits to 100 posts per request. Thus, we need to request 10 times\n",
    "- Important columns identified are subreddit, title, selftext, create_utc and the id"
   ]
  },
  {
   "cell_type": "code",
   "execution_count": 10,
   "metadata": {},
   "outputs": [],
   "source": [
    "df_marvel = get_posts('marvelstudios', 10)"
   ]
  },
  {
   "cell_type": "code",
   "execution_count": 11,
   "metadata": {},
   "outputs": [
    {
     "data": {
      "text/plain": [
       "200"
      ]
     },
     "execution_count": 11,
     "metadata": {},
     "output_type": "execute_result"
    }
   ],
   "source": [
    "res.status_code"
   ]
  },
  {
   "cell_type": "code",
   "execution_count": 12,
   "metadata": {},
   "outputs": [
    {
     "data": {
      "text/html": [
       "<div>\n",
       "<style scoped>\n",
       "    .dataframe tbody tr th:only-of-type {\n",
       "        vertical-align: middle;\n",
       "    }\n",
       "\n",
       "    .dataframe tbody tr th {\n",
       "        vertical-align: top;\n",
       "    }\n",
       "\n",
       "    .dataframe thead th {\n",
       "        text-align: right;\n",
       "    }\n",
       "</style>\n",
       "<table border=\"1\" class=\"dataframe\">\n",
       "  <thead>\n",
       "    <tr style=\"text-align: right;\">\n",
       "      <th></th>\n",
       "      <th>subreddit</th>\n",
       "      <th>title</th>\n",
       "      <th>selftext</th>\n",
       "      <th>created_utc</th>\n",
       "      <th>id</th>\n",
       "    </tr>\n",
       "  </thead>\n",
       "  <tbody>\n",
       "    <tr>\n",
       "      <th>0</th>\n",
       "      <td>marvelstudios</td>\n",
       "      <td>Spider multiverse and LoKi TVA ...</td>\n",
       "      <td>How does the spider multiverse coincide with t...</td>\n",
       "      <td>1623961657</td>\n",
       "      <td>o26yrt</td>\n",
       "    </tr>\n",
       "    <tr>\n",
       "      <th>1</th>\n",
       "      <td>marvelstudios</td>\n",
       "      <td>My guess on how Loki will end and lead into th...</td>\n",
       "      <td>First up I'm sure I'm not the first person to ...</td>\n",
       "      <td>1623961646</td>\n",
       "      <td>o26ymh</td>\n",
       "    </tr>\n",
       "    <tr>\n",
       "      <th>2</th>\n",
       "      <td>marvelstudios</td>\n",
       "      <td>Excuse me what? Partial rant</td>\n",
       "      <td>Ok so we watched the first episode of loki and...</td>\n",
       "      <td>1623961252</td>\n",
       "      <td>o26tbi</td>\n",
       "    </tr>\n",
       "    <tr>\n",
       "      <th>3</th>\n",
       "      <td>marvelstudios</td>\n",
       "      <td>Joe Biden had too much</td>\n",
       "      <td>[removed]</td>\n",
       "      <td>1623960897</td>\n",
       "      <td>o26o25</td>\n",
       "    </tr>\n",
       "    <tr>\n",
       "      <th>4</th>\n",
       "      <td>marvelstudios</td>\n",
       "      <td>So if there's only a single timeline, how are ...</td>\n",
       "      <td>NaN</td>\n",
       "      <td>1623960476</td>\n",
       "      <td>o26hkv</td>\n",
       "    </tr>\n",
       "    <tr>\n",
       "      <th>5</th>\n",
       "      <td>marvelstudios</td>\n",
       "      <td>Loki strength</td>\n",
       "      <td>How did Loki got his ass kicked by some random...</td>\n",
       "      <td>1623960470</td>\n",
       "      <td>o26hhu</td>\n",
       "    </tr>\n",
       "    <tr>\n",
       "      <th>6</th>\n",
       "      <td>marvelstudios</td>\n",
       "      <td>Whoever is making Loki should be brought in to...</td>\n",
       "      <td>[removed]</td>\n",
       "      <td>1623960149</td>\n",
       "      <td>o26cxa</td>\n",
       "    </tr>\n",
       "    <tr>\n",
       "      <th>7</th>\n",
       "      <td>marvelstudios</td>\n",
       "      <td>avengers age of ultron</td>\n",
       "      <td>hi y’all, i’m currently rewatching all the mar...</td>\n",
       "      <td>1623960140</td>\n",
       "      <td>o26csr</td>\n",
       "    </tr>\n",
       "    <tr>\n",
       "      <th>8</th>\n",
       "      <td>marvelstudios</td>\n",
       "      <td>BLACK WIDOW Social Media Reactions Megathread</td>\n",
       "      <td>BLACK WIDOW Social Media Reactions Megathread\\...</td>\n",
       "      <td>1623959901</td>\n",
       "      <td>o2691g</td>\n",
       "    </tr>\n",
       "    <tr>\n",
       "      <th>9</th>\n",
       "      <td>marvelstudios</td>\n",
       "      <td>Just did a first watch of Thor: Ragnarok with ...</td>\n",
       "      <td>I didn't let them know Hulk was in it, the com...</td>\n",
       "      <td>1623959421</td>\n",
       "      <td>o2622o</td>\n",
       "    </tr>\n",
       "  </tbody>\n",
       "</table>\n",
       "</div>"
      ],
      "text/plain": [
       "       subreddit                                              title  \\\n",
       "0  marvelstudios                 Spider multiverse and LoKi TVA ...   \n",
       "1  marvelstudios  My guess on how Loki will end and lead into th...   \n",
       "2  marvelstudios                       Excuse me what? Partial rant   \n",
       "3  marvelstudios                             Joe Biden had too much   \n",
       "4  marvelstudios  So if there's only a single timeline, how are ...   \n",
       "5  marvelstudios                                      Loki strength   \n",
       "6  marvelstudios  Whoever is making Loki should be brought in to...   \n",
       "7  marvelstudios                             avengers age of ultron   \n",
       "8  marvelstudios      BLACK WIDOW Social Media Reactions Megathread   \n",
       "9  marvelstudios  Just did a first watch of Thor: Ragnarok with ...   \n",
       "\n",
       "                                            selftext  created_utc      id  \n",
       "0  How does the spider multiverse coincide with t...   1623961657  o26yrt  \n",
       "1  First up I'm sure I'm not the first person to ...   1623961646  o26ymh  \n",
       "2  Ok so we watched the first episode of loki and...   1623961252  o26tbi  \n",
       "3                                          [removed]   1623960897  o26o25  \n",
       "4                                                NaN   1623960476  o26hkv  \n",
       "5  How did Loki got his ass kicked by some random...   1623960470  o26hhu  \n",
       "6                                          [removed]   1623960149  o26cxa  \n",
       "7  hi y’all, i’m currently rewatching all the mar...   1623960140  o26csr  \n",
       "8  BLACK WIDOW Social Media Reactions Megathread\\...   1623959901  o2691g  \n",
       "9  I didn't let them know Hulk was in it, the com...   1623959421  o2622o  "
      ]
     },
     "execution_count": 12,
     "metadata": {},
     "output_type": "execute_result"
    }
   ],
   "source": [
    "df_marvel.head(10)"
   ]
  },
  {
   "cell_type": "code",
   "execution_count": 13,
   "metadata": {},
   "outputs": [
    {
     "data": {
      "text/plain": [
       "1000"
      ]
     },
     "execution_count": 13,
     "metadata": {},
     "output_type": "execute_result"
    }
   ],
   "source": [
    "df_marvel['id'].nunique()"
   ]
  },
  {
   "cell_type": "code",
   "execution_count": 14,
   "metadata": {},
   "outputs": [
    {
     "data": {
      "text/plain": [
       "1000"
      ]
     },
     "execution_count": 14,
     "metadata": {},
     "output_type": "execute_result"
    }
   ],
   "source": [
    "len(df_marvel)"
   ]
  },
  {
   "cell_type": "code",
   "execution_count": 15,
   "metadata": {},
   "outputs": [
    {
     "data": {
      "text/plain": [
       "(1000, 5)"
      ]
     },
     "execution_count": 15,
     "metadata": {},
     "output_type": "execute_result"
    }
   ],
   "source": [
    "df_marvel.shape"
   ]
  },
  {
   "cell_type": "markdown",
   "metadata": {},
   "source": [
    "This is the data from subreddit marvelstudios"
   ]
  },
  {
   "cell_type": "code",
   "execution_count": 16,
   "metadata": {},
   "outputs": [],
   "source": [
    "df_dc = get_posts('DC_Cinematic', 10)"
   ]
  },
  {
   "cell_type": "code",
   "execution_count": 17,
   "metadata": {},
   "outputs": [
    {
     "data": {
      "text/plain": [
       "200"
      ]
     },
     "execution_count": 17,
     "metadata": {},
     "output_type": "execute_result"
    }
   ],
   "source": [
    "res.status_code"
   ]
  },
  {
   "cell_type": "code",
   "execution_count": 18,
   "metadata": {},
   "outputs": [
    {
     "data": {
      "text/html": [
       "<div>\n",
       "<style scoped>\n",
       "    .dataframe tbody tr th:only-of-type {\n",
       "        vertical-align: middle;\n",
       "    }\n",
       "\n",
       "    .dataframe tbody tr th {\n",
       "        vertical-align: top;\n",
       "    }\n",
       "\n",
       "    .dataframe thead th {\n",
       "        text-align: right;\n",
       "    }\n",
       "</style>\n",
       "<table border=\"1\" class=\"dataframe\">\n",
       "  <thead>\n",
       "    <tr style=\"text-align: right;\">\n",
       "      <th></th>\n",
       "      <th>subreddit</th>\n",
       "      <th>title</th>\n",
       "      <th>selftext</th>\n",
       "      <th>created_utc</th>\n",
       "      <th>id</th>\n",
       "    </tr>\n",
       "  </thead>\n",
       "  <tbody>\n",
       "    <tr>\n",
       "      <th>0</th>\n",
       "      <td>DC_Cinematic</td>\n",
       "      <td>OTHER: Where can I stream/rent THE DARK KNIGHT...</td>\n",
       "      <td>Hi everyone! I was planning to watch THE DARK ...</td>\n",
       "      <td>1623954447</td>\n",
       "      <td>o242ng</td>\n",
       "    </tr>\n",
       "    <tr>\n",
       "      <th>1</th>\n",
       "      <td>DC_Cinematic</td>\n",
       "      <td>Discussion: To those still Streaming ZSJL week...</td>\n",
       "      <td>The thing you should all be doing is switching...</td>\n",
       "      <td>1623952206</td>\n",
       "      <td>o236we</td>\n",
       "    </tr>\n",
       "    <tr>\n",
       "      <th>2</th>\n",
       "      <td>DC_Cinematic</td>\n",
       "      <td>Poll:which cinematic universe do you wb to con...</td>\n",
       "      <td>Hamadaverse:jl17,shazam,bop,ww84,tss,\\nBlack A...</td>\n",
       "      <td>1623951214</td>\n",
       "      <td>o22sv3</td>\n",
       "    </tr>\n",
       "    <tr>\n",
       "      <th>3</th>\n",
       "      <td>DC_Cinematic</td>\n",
       "      <td>Which Batman stories do you think made Batflec...</td>\n",
       "      <td>Stories like Knightfall and Killing Joke come ...</td>\n",
       "      <td>1623950894</td>\n",
       "      <td>o22o9n</td>\n",
       "    </tr>\n",
       "    <tr>\n",
       "      <th>4</th>\n",
       "      <td>DC_Cinematic</td>\n",
       "      <td>MERCHANDISE: About a US 4K/Blu-ray/DVD release...</td>\n",
       "      <td>Everything proceeding refers to Warner Bros ex...</td>\n",
       "      <td>1623950516</td>\n",
       "      <td>o22is3</td>\n",
       "    </tr>\n",
       "    <tr>\n",
       "      <th>5</th>\n",
       "      <td>DC_Cinematic</td>\n",
       "      <td>I Think Man Should play Reverse Flash in Flash...</td>\n",
       "      <td>[removed]</td>\n",
       "      <td>1623949368</td>\n",
       "      <td>o2230e</td>\n",
       "    </tr>\n",
       "    <tr>\n",
       "      <th>6</th>\n",
       "      <td>DC_Cinematic</td>\n",
       "      <td>Discussion: After the snyder cut</td>\n",
       "      <td>After I watched the snyder cut I just gave up ...</td>\n",
       "      <td>1623947876</td>\n",
       "      <td>o21il2</td>\n",
       "    </tr>\n",
       "    <tr>\n",
       "      <th>7</th>\n",
       "      <td>DC_Cinematic</td>\n",
       "      <td>Other: Has anyone bought ZSJL 4K DVD in the US?</td>\n",
       "      <td>Has anyone bought the ZSJL 4k DVD in the US an...</td>\n",
       "      <td>1623945609</td>\n",
       "      <td>o20nia</td>\n",
       "    </tr>\n",
       "    <tr>\n",
       "      <th>8</th>\n",
       "      <td>DC_Cinematic</td>\n",
       "      <td>What's gonna happen with the DCEU, since that ...</td>\n",
       "      <td>[removed]</td>\n",
       "      <td>1623916879</td>\n",
       "      <td>o1rsvp</td>\n",
       "    </tr>\n",
       "    <tr>\n",
       "      <th>9</th>\n",
       "      <td>DC_Cinematic</td>\n",
       "      <td>Question: Unfilmed aquaman scene where he foll...</td>\n",
       "      <td>I read about this scene quite recently but can...</td>\n",
       "      <td>1623914391</td>\n",
       "      <td>o1r825</td>\n",
       "    </tr>\n",
       "  </tbody>\n",
       "</table>\n",
       "</div>"
      ],
      "text/plain": [
       "      subreddit                                              title  \\\n",
       "0  DC_Cinematic  OTHER: Where can I stream/rent THE DARK KNIGHT...   \n",
       "1  DC_Cinematic  Discussion: To those still Streaming ZSJL week...   \n",
       "2  DC_Cinematic  Poll:which cinematic universe do you wb to con...   \n",
       "3  DC_Cinematic  Which Batman stories do you think made Batflec...   \n",
       "4  DC_Cinematic  MERCHANDISE: About a US 4K/Blu-ray/DVD release...   \n",
       "5  DC_Cinematic  I Think Man Should play Reverse Flash in Flash...   \n",
       "6  DC_Cinematic                   Discussion: After the snyder cut   \n",
       "7  DC_Cinematic    Other: Has anyone bought ZSJL 4K DVD in the US?   \n",
       "8  DC_Cinematic  What's gonna happen with the DCEU, since that ...   \n",
       "9  DC_Cinematic  Question: Unfilmed aquaman scene where he foll...   \n",
       "\n",
       "                                            selftext  created_utc      id  \n",
       "0  Hi everyone! I was planning to watch THE DARK ...   1623954447  o242ng  \n",
       "1  The thing you should all be doing is switching...   1623952206  o236we  \n",
       "2  Hamadaverse:jl17,shazam,bop,ww84,tss,\\nBlack A...   1623951214  o22sv3  \n",
       "3  Stories like Knightfall and Killing Joke come ...   1623950894  o22o9n  \n",
       "4  Everything proceeding refers to Warner Bros ex...   1623950516  o22is3  \n",
       "5                                          [removed]   1623949368  o2230e  \n",
       "6  After I watched the snyder cut I just gave up ...   1623947876  o21il2  \n",
       "7  Has anyone bought the ZSJL 4k DVD in the US an...   1623945609  o20nia  \n",
       "8                                          [removed]   1623916879  o1rsvp  \n",
       "9  I read about this scene quite recently but can...   1623914391  o1r825  "
      ]
     },
     "execution_count": 18,
     "metadata": {},
     "output_type": "execute_result"
    }
   ],
   "source": [
    "df_dc.head(10)"
   ]
  },
  {
   "cell_type": "code",
   "execution_count": 19,
   "metadata": {},
   "outputs": [
    {
     "data": {
      "text/plain": [
       "1000"
      ]
     },
     "execution_count": 19,
     "metadata": {},
     "output_type": "execute_result"
    }
   ],
   "source": [
    "len(df_dc)"
   ]
  },
  {
   "cell_type": "code",
   "execution_count": 20,
   "metadata": {},
   "outputs": [
    {
     "data": {
      "text/plain": [
       "1000"
      ]
     },
     "execution_count": 20,
     "metadata": {},
     "output_type": "execute_result"
    }
   ],
   "source": [
    "df_dc['id'].nunique()"
   ]
  },
  {
   "cell_type": "code",
   "execution_count": 21,
   "metadata": {},
   "outputs": [
    {
     "data": {
      "text/plain": [
       "(1000, 5)"
      ]
     },
     "execution_count": 21,
     "metadata": {},
     "output_type": "execute_result"
    }
   ],
   "source": [
    "df_dc.shape"
   ]
  },
  {
   "cell_type": "markdown",
   "metadata": {},
   "source": [
    "This is the data from subreddit dc_cinematics"
   ]
  },
  {
   "cell_type": "code",
   "execution_count": 22,
   "metadata": {},
   "outputs": [
    {
     "name": "stdout",
     "output_type": "stream",
     "text": [
      "min 1623339481\n",
      "max 1623961657\n"
     ]
    }
   ],
   "source": [
    "print('min', df_marvel['created_utc'].min())\n",
    "print('max', df_marvel['created_utc'].max())"
   ]
  },
  {
   "cell_type": "code",
   "execution_count": 23,
   "metadata": {},
   "outputs": [
    {
     "name": "stdout",
     "output_type": "stream",
     "text": [
      "min 1620251011\n",
      "max 1623954447\n"
     ]
    }
   ],
   "source": [
    "print('min', df_dc['created_utc'].min())\n",
    "print('max', df_dc['created_utc'].max())"
   ]
  },
  {
   "cell_type": "markdown",
   "metadata": {},
   "source": [
    "There is a total of 2000 posts from marvel and DC subreddit."
   ]
  },
  {
   "cell_type": "markdown",
   "metadata": {},
   "source": [
    "## Save marvel and dc post "
   ]
  },
  {
   "cell_type": "code",
   "execution_count": 24,
   "metadata": {},
   "outputs": [],
   "source": [
    "# For data used for 2200 post pulled \n",
    "df_marvel.to_csv('../data/marvel.csv', index=False)\n",
    "df_dc.to_csv('../data/dc.csv', index=False)"
   ]
  }
 ],
 "metadata": {
  "kernelspec": {
   "display_name": "Python 3",
   "language": "python",
   "name": "python3"
  },
  "language_info": {
   "codemirror_mode": {
    "name": "ipython",
    "version": 3
   },
   "file_extension": ".py",
   "mimetype": "text/x-python",
   "name": "python",
   "nbconvert_exporter": "python",
   "pygments_lexer": "ipython3",
   "version": "3.8.8"
  }
 },
 "nbformat": 4,
 "nbformat_minor": 4
}
